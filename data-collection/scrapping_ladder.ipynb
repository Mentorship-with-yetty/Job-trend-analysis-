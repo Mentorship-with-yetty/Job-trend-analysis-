{
  "cells": [
    {
      "cell_type": "code",
      "execution_count": null,
      "metadata": {
        "id": "YD2ANnAVDpaF"
      },
      "outputs": [],
      "source": [
        "import requests as rq\n",
        "from bs4 import BeautifulSoup as bs\n",
        "import sys\n",
        "from time import sleep\n",
        "from time import time\n",
        "from random import randint\n",
        "import json\n",
        "from warnings import warn\n",
        "import pandas as pd\n"
      ]
    },
    {
      "cell_type": "code",
      "execution_count": null,
      "metadata": {
        "id": "jlesq_g9D_I4"
      },
      "outputs": [],
      "source": [
        "def check_availability(link):\n",
        "  url = f'http://archive.org/wayback/available?url=https://www.theladders.com/jobs/technology-jobs?s'\n",
        "  link_url = rq.get(url).text\n",
        "  parse_url = json.loads(link_url)\n",
        "  return parse_url"
      ]
    },
    {
      "cell_type": "code",
      "execution_count": null,
      "metadata": {
        "colab": {
          "base_uri": "https://localhost:8080/"
        },
        "id": "C8Hn5b-BEKmk",
        "outputId": "b89d8bbf-4621-4389-a752-26a986f214f7"
      },
      "outputs": [
        {
          "output_type": "execute_result",
          "data": {
            "text/plain": [
              "{'url': 'https://www.theladders.com/jobs/technology-jobs?s',\n",
              " 'archived_snapshots': {'closest': {'status': '200',\n",
              "   'available': True,\n",
              "   'url': 'http://web.archive.org/web/20210926034124/https://www.theladders.com/jobs/technology-jobs?s',\n",
              "   'timestamp': '20210926034124'}}}"
            ]
          },
          "metadata": {},
          "execution_count": 3
        }
      ],
      "source": [
        "check_availability('https://www.theladders.com/jobs/technology-jobs?s')"
      ]
    },
    {
      "cell_type": "code",
      "execution_count": null,
      "metadata": {
        "id": "cJM9ODBwIf-f"
      },
      "outputs": [],
      "source": [
        "def get_archive_link(link):\n",
        "  url = f'http://web.archive.org/cdx/search/cdx?url=www.theladders.com/jobs/technology-jobs?s&from=20130101&to=20230215&output=json'\n",
        "  urls = rq.get(url).text\n",
        "  parse_url = json.loads(urls) #parses the JSON from urls.\n",
        "  # print(parse_url)\n",
        "  url_list = []\n",
        "  for i in range(1,len(parse_url)):\n",
        "    orig_url = parse_url[i][2]\n",
        "    tstamp = parse_url[i][1]\n",
        "    waylink = tstamp+'/'+orig_url\n",
        "    url_list.append(waylink)\n",
        "  # print(url_list)\n",
        "\n",
        "  ## Compiles final url pattern.\n",
        "  final_list = []\n",
        "  for url in url_list:\n",
        "    final_url = 'https://web.archive.org/web/'+url\n",
        "    final_list.append(final_url)\n",
        "    # print(final_list)\n",
        "\n",
        "  return final_list"
      ]
    },
    {
      "cell_type": "code",
      "execution_count": null,
      "metadata": {
        "id": "LUPuHgOvJMYp",
        "colab": {
          "base_uri": "https://localhost:8080/"
        },
        "outputId": "168e846d-5dab-4e2c-9b77-b34cd7a1eabc"
      },
      "outputs": [
        {
          "output_type": "execute_result",
          "data": {
            "text/plain": [
              "[['urlkey',\n",
              "  'timestamp',\n",
              "  'original',\n",
              "  'mimetype',\n",
              "  'statuscode',\n",
              "  'digest',\n",
              "  'length'],\n",
              " ['com,theladders)/jobs/technology-jobs?s',\n",
              "  '20200727211849',\n",
              "  'https://www.theladders.com/jobs/technology-jobs?s',\n",
              "  'text/html',\n",
              "  '200',\n",
              "  'K45B6SJ5Y7YXHXRCVYLS353HYTTPBEDI',\n",
              "  '31940'],\n",
              " ['com,theladders)/jobs/technology-jobs?s',\n",
              "  '20200923165350',\n",
              "  'https://www.theladders.com/jobs/technology-jobs?s',\n",
              "  'text/html',\n",
              "  '200',\n",
              "  'W7BQIHXHKX2QINCV5EQAYTULJGUF2LIX',\n",
              "  '45906'],\n",
              " ['com,theladders)/jobs/technology-jobs?s',\n",
              "  '20201011192708',\n",
              "  'https://www.theladders.com/jobs/technology-jobs?s',\n",
              "  'text/html',\n",
              "  '200',\n",
              "  '44HO5RYLXV54Q7TK3FX7YZIDNZ3JZXLP',\n",
              "  '45280'],\n",
              " ['com,theladders)/jobs/technology-jobs?s',\n",
              "  '20210926034124',\n",
              "  'https://www.theladders.com/jobs/technology-jobs?s',\n",
              "  'text/html',\n",
              "  '200',\n",
              "  'TVI5B2DPYDOXPE7E5XTPL7NFNJHD72DE',\n",
              "  '39889']]"
            ]
          },
          "metadata": {},
          "execution_count": 5
        }
      ],
      "source": [
        "url = f'http://web.archive.org/cdx/search/cdx?url=www.theladders.com/jobs/technology-jobs?s&from=20130101&to=20230215&output=json'\n",
        "urls = rq.get(url).text\n",
        "parse_url = json.loads(urls)\n",
        "parse_url"
      ]
    },
    {
      "cell_type": "code",
      "execution_count": null,
      "metadata": {
        "id": "qQjxeO4MJY5v"
      },
      "outputs": [],
      "source": [
        "# extract company\n",
        "def extract_company(div): \n",
        "    company = div.find_all(name=\"span\", attrs={\"class\":\"company-text-no-link\"})\n",
        "    for b in company:\n",
        "        return (b.text.strip())\n",
        "    return 'NOT_FOUND'"
      ]
    },
    {
      "cell_type": "code",
      "execution_count": null,
      "metadata": {
        "id": "DhG7GbllJtGO"
      },
      "outputs": [],
      "source": [
        "# extract job title\n",
        "def extract_job_title(div):\n",
        "    for a in div.find_all(name='a', attrs={\"class\":\"job-card-title\"}):\n",
        "        return (a.text.strip())\n",
        "    return('NOT_FOUND')"
      ]
    },
    {
      "cell_type": "code",
      "execution_count": null,
      "metadata": {
        "id": "lx9D_OKdLMeQ",
        "colab": {
          "base_uri": "https://localhost:8080/"
        },
        "outputId": "74877610-10ad-4494-8ae2-5b3efcc4a83b"
      },
      "outputs": [
        {
          "output_type": "stream",
          "name": "stdout",
          "text": [
            "GCP - Data Hadoop Developer\n",
            "ETL Tech Lead\n",
            ".Net Developer - Digital Modernization\n",
            "Software Manager / Quality\n",
            "Senior Software Engineer\n",
            "Software Application SME\n",
            "Senior Software Engineer / Technical Architect\n",
            "NetBackup Lead Consultant\n",
            "Network Design Engineer\n",
            "Application Developer\n",
            "Audio-Visual / Video Conferencing Systems Engineer\n",
            "Transaction Management Coordinator\n",
            "SAP BRIM\n",
            "SAP Human Capital Management Team Lead\n",
            "Senior System Engineer - TS / SCI\n",
            "Sr. Database Developer\n",
            "Senior CNO Test Engineer - TS / SCI\n",
            "Junior Java Developer - TS / SCI\n",
            "Analog Design Engineer\n",
            "Senior Remote Support Engineer\n",
            "Sr. Frontend Developer\n",
            "Azure Architect\n",
            "Audio Engineer\n",
            "Digital Solutions Technical Architect & Team / Delivery Lead\n",
            "Integration Developer\n"
          ]
        }
      ],
      "source": [
        "pg = rq.get('http://web.archive.org/web/20210926034124/https://www.theladders.com/jobs/technology-jobs?s').text\n",
        "soup = bs(pg,'html.parser')\n",
        "divs = soup.find_all(name=\"div\", attrs={\"class\":\"job-card-container\"})\n",
        "for div in divs:\n",
        "  title = extract_job_title(div)\n",
        "  print(title)\n"
      ]
    },
    {
      "cell_type": "code",
      "execution_count": null,
      "metadata": {
        "id": "5GHPxsodLtGv"
      },
      "outputs": [],
      "source": [
        "#extract company\n",
        "def extract_company(div): \n",
        "    company = div.find_all(name=\"span\", attrs={\"class\":\"company-text-no-link\"})\n",
        "    for b in company:\n",
        "        return (b.text.strip())\n",
        "    return 'NOT_FOUND'\n",
        "\n",
        "# extract job salary\n",
        "def extract_salary(div): \n",
        "    for a in div.find_all(name='div', attrs={\"class\":\"job-card-salary-label\"}):\n",
        "        return (a.text.strip())\n",
        "    return('NOT_FOUND')\n",
        "\n",
        "\n",
        "# extract job location\n",
        "def extract_location(div):\n",
        "    for a in div.findAll('a', attrs={'class': 'job-card-location'}):\n",
        "        return (a.text)\n",
        "    return 'NOT_FOUND'\n",
        "\n",
        "\n",
        "# extract job title\n",
        "def extract_job_title(div):\n",
        "    for a in div.find_all(name='a', attrs={\"class\":\"job-card-title\"}):\n",
        "        return (a.text.strip())\n",
        "    return('NOT_FOUND')\n",
        "\n",
        "\n",
        "# extract jd summary\n",
        "def extract_summary(div): \n",
        "  for p in div.findAll('p', attrs={'class': 'job-card-description'}):\n",
        "        return (p.text)\n",
        "  return 'NOT_FOUND'\n",
        "\n",
        "# extract link of job description \n",
        "def extract_link(div): \n",
        "      for a in div.find_all(name='a', attrs={'class':'job-card-location'}):\n",
        "        return (a['href'])\n",
        "      return('NOT_FOUND')\n",
        "\n",
        "\n",
        "# extract date of job when it was posted\n",
        "def extract_date(div):\n",
        "  try:\n",
        "    divs = div.findAll('p', attrs={'class': 'posted-date bold-date'})\n",
        "    for p in divs:\n",
        "      return (p.text.strip())\n",
        "  except:\n",
        "    return 'NOT_FOUND'\n",
        "  return 'NOT_FOUND'\n",
        "\n",
        "\n",
        "# extract full job description from link\n",
        "def extract_fulltext(url):\n",
        "  try:\n",
        "    page = rq.get('http://www.theladders.com.' + url)\n",
        "    soup = bs(page.text, \"lxml\", from_encoding=\"utf-8\")\n",
        "    spans = soup.findAll('a', attrs={'class': 'job--card-location'})\n",
        "    for a in spans:\n",
        "      return (a['href'])\n",
        "  except:\n",
        "    return 'NOT_FOUND'\n",
        "  return 'NOT_FOUND'\n"
      ]
    },
    {
      "cell_type": "code",
      "execution_count": null,
      "metadata": {
        "id": "cFQnGIsfMTC-"
      },
      "outputs": [],
      "source": [
        "# define dataframe columns\n",
        "df = pd.DataFrame(columns = ['job_title', 'company_name','location', 'summary','salary', 'link', 'date', 'full_text'])"
      ]
    },
    {
      "cell_type": "code",
      "execution_count": null,
      "metadata": {
        "colab": {
          "base_uri": "https://localhost:8080/"
        },
        "id": "TqkzsKej6Atm",
        "outputId": "2858eb79-34c4-49c9-8da3-81965159107d"
      },
      "outputs": [
        {
          "output_type": "stream",
          "name": "stderr",
          "text": [
            "/usr/local/lib/python3.9/dist-packages/bs4/__init__.py:226: UserWarning: You provided Unicode markup but also provided a value for from_encoding. Your from_encoding will be ignored.\n",
            "  warnings.warn(\"You provided Unicode markup but also provided a value for from_encoding. Your from_encoding will be ignored.\")\n",
            "/usr/local/lib/python3.9/dist-packages/bs4/__init__.py:226: UserWarning: You provided Unicode markup but also provided a value for from_encoding. Your from_encoding will be ignored.\n",
            "  warnings.warn(\"You provided Unicode markup but also provided a value for from_encoding. Your from_encoding will be ignored.\")\n"
          ]
        },
        {
          "output_type": "stream",
          "name": "stdout",
          "text": [
            "['Architect of Data Center and Hybrid Cloud', 'NOT_FOUND', 'Spokane, WA 99201', 'The Architect of Data Center and Hybrid Cloud is responsible for the availability and meeting the capacity and performance service level objectives for the storage, hybrid cloud (AWS, Azure, OnPrem) a...', 'NOT_FOUND', '/web/20200727211849/https://www.theladders.com/jobs/spokane-wa-jobs', 'Posted Today', 'NOT_FOUND']\n",
            "['SQL DBA (Database Administrator)', '', 'New York, NY 10023', 'Configure and install SQL databases and associated servers to meet business needs that are flexible, resilient and scalable; optimize, monitor and maintain internal and external database capacity, hea...', '$110K — $140K', '/web/20200727211849/https://www.theladders.com/jobs/new-york-ny-jobs', 'Posted Today', 'NOT_FOUND']\n",
            "['Software Developer', 'NOT_FOUND', 'Detroit, MI 48202', 'This role will be responsible for the oversight of the entire software solution end-to-end, using good standard development life cycle practices; proficiency in relational and multidimensional databas...', 'NOT_FOUND', '/web/20200727211849/https://www.theladders.com/jobs/detroit-mi-jobs', 'Posted Today', 'NOT_FOUND']\n"
          ]
        },
        {
          "output_type": "stream",
          "name": "stderr",
          "text": [
            "/usr/local/lib/python3.9/dist-packages/bs4/__init__.py:226: UserWarning: You provided Unicode markup but also provided a value for from_encoding. Your from_encoding will be ignored.\n",
            "  warnings.warn(\"You provided Unicode markup but also provided a value for from_encoding. Your from_encoding will be ignored.\")\n",
            "/usr/local/lib/python3.9/dist-packages/bs4/__init__.py:226: UserWarning: You provided Unicode markup but also provided a value for from_encoding. Your from_encoding will be ignored.\n",
            "  warnings.warn(\"You provided Unicode markup but also provided a value for from_encoding. Your from_encoding will be ignored.\")\n",
            "/usr/local/lib/python3.9/dist-packages/bs4/__init__.py:226: UserWarning: You provided Unicode markup but also provided a value for from_encoding. Your from_encoding will be ignored.\n",
            "  warnings.warn(\"You provided Unicode markup but also provided a value for from_encoding. Your from_encoding will be ignored.\")\n"
          ]
        },
        {
          "output_type": "stream",
          "name": "stdout",
          "text": [
            "['Senior Android Developer - Relo Provided', 'NOT_FOUND', 'Charlotte, NC 28202', 'As an Android Software Development Engineer in the Associate Mobility Engineering organization, you will be working in an open engineering culture that fosters collaborative decision making with a glo...', 'NOT_FOUND', '/web/20200727211849/https://www.theladders.com/jobs/charlotte-nc-jobs', 'Posted Today', 'NOT_FOUND']\n",
            "['Software Product Manager - Decision Support', '', 'South San Francisco, CA 94080', 'Generate/maintain high level requirements to the development team; create test plans/protocols/coordinate the creation of legal agreements.', 'NOT_FOUND', '/web/20200727211849/https://www.theladders.com/jobs/south-san-francisco-ca-jobs', 'Posted Today', 'NOT_FOUND']\n",
            "['Control Systems Engineer', '', 'Beaumont, TX 77701', 'Provide support of both Foxboro and Honeywell distributed Control Systems (day to day troubleshooting, and upgrades of DCS systems); support to operations/projects/third party vendor contractors/end u...', 'NOT_FOUND', '/web/20200727211849/https://www.theladders.com/jobs/beaumont-tx-jobs', 'Posted Today', 'NOT_FOUND']\n"
          ]
        },
        {
          "output_type": "stream",
          "name": "stderr",
          "text": [
            "/usr/local/lib/python3.9/dist-packages/bs4/__init__.py:226: UserWarning: You provided Unicode markup but also provided a value for from_encoding. Your from_encoding will be ignored.\n",
            "  warnings.warn(\"You provided Unicode markup but also provided a value for from_encoding. Your from_encoding will be ignored.\")\n",
            "/usr/local/lib/python3.9/dist-packages/bs4/__init__.py:226: UserWarning: You provided Unicode markup but also provided a value for from_encoding. Your from_encoding will be ignored.\n",
            "  warnings.warn(\"You provided Unicode markup but also provided a value for from_encoding. Your from_encoding will be ignored.\")\n",
            "/usr/local/lib/python3.9/dist-packages/bs4/__init__.py:226: UserWarning: You provided Unicode markup but also provided a value for from_encoding. Your from_encoding will be ignored.\n",
            "  warnings.warn(\"You provided Unicode markup but also provided a value for from_encoding. Your from_encoding will be ignored.\")\n"
          ]
        },
        {
          "output_type": "stream",
          "name": "stdout",
          "text": [
            "['Control Systems Engineer', '', 'Beaumont, TX 77701', 'Provide support of both Foxboro and Honeywell distributed Control Systems (day to day troubleshooting, and upgrades of DCS systems); support to operations/projects/third party vendor contractors/end u...', 'NOT_FOUND', '/web/20200727211849/https://www.theladders.com/jobs/beaumont-tx-jobs', 'Posted Today', 'NOT_FOUND']\n",
            "['Control Systems Engineer', '', 'Beaumont, TX 77701', 'Provide support of both Foxboro and Honeywell distributed Control Systems (day to day troubleshooting, and upgrades of DCS systems); support to operations/projects/third party vendor contractors/end u...', 'NOT_FOUND', '/web/20200727211849/https://www.theladders.com/jobs/beaumont-tx-jobs', 'Posted Today', 'NOT_FOUND']\n",
            "['Control Systems Analyst (Cybersecurity)', '', 'Rawlins, WY 82301', \"Responsible for maintaining the reliability of their facility's Foxboro IA Distributed Control System (preventive maintenance/ICS cybersecurity); maintain supported software/hardware releases/document...\", 'NOT_FOUND', '/web/20200727211849/https://www.theladders.com/jobs/rawlins-wy-jobs', 'Posted Today', 'NOT_FOUND']\n"
          ]
        },
        {
          "output_type": "stream",
          "name": "stderr",
          "text": [
            "/usr/local/lib/python3.9/dist-packages/bs4/__init__.py:226: UserWarning: You provided Unicode markup but also provided a value for from_encoding. Your from_encoding will be ignored.\n",
            "  warnings.warn(\"You provided Unicode markup but also provided a value for from_encoding. Your from_encoding will be ignored.\")\n",
            "/usr/local/lib/python3.9/dist-packages/bs4/__init__.py:226: UserWarning: You provided Unicode markup but also provided a value for from_encoding. Your from_encoding will be ignored.\n",
            "  warnings.warn(\"You provided Unicode markup but also provided a value for from_encoding. Your from_encoding will be ignored.\")\n",
            "/usr/local/lib/python3.9/dist-packages/bs4/__init__.py:226: UserWarning: You provided Unicode markup but also provided a value for from_encoding. Your from_encoding will be ignored.\n",
            "  warnings.warn(\"You provided Unicode markup but also provided a value for from_encoding. Your from_encoding will be ignored.\")\n"
          ]
        },
        {
          "output_type": "stream",
          "name": "stdout",
          "text": [
            "['Control Systems Analyst (Cybersecurity)', '', 'Rawlins, WY 82301', \"Be responsible for maintaining the reliability of their facility's Foxboro IA Distributed Control System (preventive maintenance/ICS cybersecurity); maintain supported software/hardware releases/docum...\", 'NOT_FOUND', '/web/20200727211849/https://www.theladders.com/jobs/rawlins-wy-jobs', 'Posted Today', 'NOT_FOUND']\n",
            "['Control Systems Analyst (Cybersecurity)', '', 'Rawlins, WY 82301', \"Be responsible for maintaining the reliability of their facility's Foxboro IA Distributed Control System (preventive maintenance/ICS cybersecurity); maintain supported software/hardware releases/docum...\", 'NOT_FOUND', '/web/20200727211849/https://www.theladders.com/jobs/rawlins-wy-jobs', 'Posted Today', 'NOT_FOUND']\n",
            "['Control Systems Analyst (Cybersecurity)', '', 'Rawlins, WY 82301', \"Be responsible for maintaining the reliability of their facility's Foxboro IA Distributed Control System (preventive maintenance/ICS cybersecurity); act as primary administrator of ICS Networks/DMZ Ne...\", 'NOT_FOUND', '/web/20200727211849/https://www.theladders.com/jobs/rawlins-wy-jobs', 'Posted Today', 'NOT_FOUND']\n"
          ]
        },
        {
          "output_type": "stream",
          "name": "stderr",
          "text": [
            "/usr/local/lib/python3.9/dist-packages/bs4/__init__.py:226: UserWarning: You provided Unicode markup but also provided a value for from_encoding. Your from_encoding will be ignored.\n",
            "  warnings.warn(\"You provided Unicode markup but also provided a value for from_encoding. Your from_encoding will be ignored.\")\n",
            "/usr/local/lib/python3.9/dist-packages/bs4/__init__.py:226: UserWarning: You provided Unicode markup but also provided a value for from_encoding. Your from_encoding will be ignored.\n",
            "  warnings.warn(\"You provided Unicode markup but also provided a value for from_encoding. Your from_encoding will be ignored.\")\n",
            "/usr/local/lib/python3.9/dist-packages/bs4/__init__.py:226: UserWarning: You provided Unicode markup but also provided a value for from_encoding. Your from_encoding will be ignored.\n",
            "  warnings.warn(\"You provided Unicode markup but also provided a value for from_encoding. Your from_encoding will be ignored.\")\n"
          ]
        },
        {
          "output_type": "stream",
          "name": "stdout",
          "text": [
            "['Business Data Analyst', '', 'Frankfort, KY 40601', 'Analyze and resolve tasks associated with partially matched information using pre-defined business rules; prioritize and maintain personal workload in the Master Client Index according to customer req...', '$60K — $80K + health insurance, paid national holidays and pto*', '/web/20200727211849/https://www.theladders.com/jobs/frankfort-ky-jobs', 'Posted 2d ago', 'NOT_FOUND']\n",
            "['Lead Software Developer - Java, Spring, Mentoring', '', 'Austin, TX 78730', 'Work with a team of advanced engineers to create the next generation of unique solutions for the restaurant industry. Take on an important role in defining the software development approach and creati...', 'NOT_FOUND', '/web/20200727211849/https://www.theladders.com/jobs/austin-tx-jobs', 'Posted 3d ago', 'NOT_FOUND']\n",
            "['Scrum Master', 'NOT_FOUND', 'Richardson, TX 75080', 'Work with Product Owners and stakeholders to build the backlog. • Facilitate User Story Refinement Sessions; use emotional intelligence and lean and agile practices to achieve high team performance...', 'NOT_FOUND', '/web/20200727211849/https://www.theladders.com/jobs/richardson-tx-jobs', 'Posted 3d ago', 'NOT_FOUND']\n"
          ]
        },
        {
          "output_type": "stream",
          "name": "stderr",
          "text": [
            "/usr/local/lib/python3.9/dist-packages/bs4/__init__.py:226: UserWarning: You provided Unicode markup but also provided a value for from_encoding. Your from_encoding will be ignored.\n",
            "  warnings.warn(\"You provided Unicode markup but also provided a value for from_encoding. Your from_encoding will be ignored.\")\n",
            "/usr/local/lib/python3.9/dist-packages/bs4/__init__.py:226: UserWarning: You provided Unicode markup but also provided a value for from_encoding. Your from_encoding will be ignored.\n",
            "  warnings.warn(\"You provided Unicode markup but also provided a value for from_encoding. Your from_encoding will be ignored.\")\n",
            "/usr/local/lib/python3.9/dist-packages/bs4/__init__.py:226: UserWarning: You provided Unicode markup but also provided a value for from_encoding. Your from_encoding will be ignored.\n",
            "  warnings.warn(\"You provided Unicode markup but also provided a value for from_encoding. Your from_encoding will be ignored.\")\n"
          ]
        },
        {
          "output_type": "stream",
          "name": "stdout",
          "text": [
            "['VP of Technical Service and Support', '', 'Naperville, IL 60563', 'The Vice President takes the lead in overseeing the Service and Technical Support, Service and Training department are met, assist with the ongoing development of offerings and tools, and maintain cus...', '$160K — $190K + company car', '/web/20200727211849/https://www.theladders.com/jobs/naperville-il-jobs', 'Posted 4d ago', 'NOT_FOUND']\n",
            "['Lead Firewall Network Engineer (EMS2)', '', 'Olympia, WA 98504', 'Supports, maintains, and enhances existing firewalls for state agencies and other customers and is responsible for ensuring statewide business and financial applications, voice services, internet acce...', '$90K — $110K + excellent benefits package', '/web/20200727211849/https://www.theladders.com/jobs/olympia-wa-jobs', 'Posted 4d ago', 'NOT_FOUND']\n",
            "['Senior Software Engineer (Python)', 'NOT_FOUND', 'Pittsburgh, PA 15222', 'Investigate design approaches, prototypes concepts and evaluates technical feasibility. Develop software compatible with Agile Framework for Medical Device Software Development...', 'NOT_FOUND', '/web/20200727211849/https://www.theladders.com/jobs/pittsburgh-pa-jobs', 'Posted 4d ago', 'NOT_FOUND']\n",
            "['Lead Python Developer', '', 'NOT_FOUND', 'Searching for a Lead Python Developer.', '$140K — $160K', 'NOT_FOUND', 'Posted 4d ago', 'NOT_FOUND']\n"
          ]
        },
        {
          "output_type": "stream",
          "name": "stderr",
          "text": [
            "/usr/local/lib/python3.9/dist-packages/bs4/__init__.py:226: UserWarning: You provided Unicode markup but also provided a value for from_encoding. Your from_encoding will be ignored.\n",
            "  warnings.warn(\"You provided Unicode markup but also provided a value for from_encoding. Your from_encoding will be ignored.\")\n",
            "/usr/local/lib/python3.9/dist-packages/bs4/__init__.py:226: UserWarning: You provided Unicode markup but also provided a value for from_encoding. Your from_encoding will be ignored.\n",
            "  warnings.warn(\"You provided Unicode markup but also provided a value for from_encoding. Your from_encoding will be ignored.\")\n",
            "/usr/local/lib/python3.9/dist-packages/bs4/__init__.py:226: UserWarning: You provided Unicode markup but also provided a value for from_encoding. Your from_encoding will be ignored.\n",
            "  warnings.warn(\"You provided Unicode markup but also provided a value for from_encoding. Your from_encoding will be ignored.\")\n"
          ]
        },
        {
          "output_type": "stream",
          "name": "stdout",
          "text": [
            "['UI Architect', 'NOT_FOUND', 'Hopkins, MN 55343', 'This position will own components of the architecture and direct the work of other team members; scaling projects efficiently while maximizing performance and minimizing costs and ensuring quality...', '$120K — $140K', '/web/20200727211849/https://www.theladders.com/jobs/hopkins-mn-jobs', 'Posted 4d ago', 'NOT_FOUND']\n",
            "['Full Stack Software Engineer', '', 'NOT_FOUND', 'As a Full Stack Software Engineer at !important, you will participate in building performant, reliable, and safety critical systems that aims to become the pedestrian’s security standard worldwide...', '$80K — $150K', 'NOT_FOUND', 'Posted 5d ago', 'NOT_FOUND']\n",
            "['Electrical / Hardware Engineer', 'NOT_FOUND', 'Sterling, VA 20166', 'Consist of hands on team work in designing, prototyping, developing and producing this new GPS/Navigation system for the DoD; this includes builds in a secured lab setting, identifying requirements fo...', '$80K — $130K', '/web/20200727211849/https://www.theladders.com/jobs/sterling-va-jobs', 'Posted 5d ago', 'NOT_FOUND']\n",
            "['Hardware Test Engineer (Senior)', 'NOT_FOUND', 'Sterling, VA 20166', 'The Test Engineer will be responsible for managing, monitoring, and supervising the activities of the test team, updating program plans for testing, creating program test templates, ensuring test case...', '$80K — $130K', '/web/20200727211849/https://www.theladders.com/jobs/sterling-va-jobs', 'Posted 5d ago', 'NOT_FOUND']\n"
          ]
        },
        {
          "output_type": "stream",
          "name": "stderr",
          "text": [
            "/usr/local/lib/python3.9/dist-packages/bs4/__init__.py:226: UserWarning: You provided Unicode markup but also provided a value for from_encoding. Your from_encoding will be ignored.\n",
            "  warnings.warn(\"You provided Unicode markup but also provided a value for from_encoding. Your from_encoding will be ignored.\")\n",
            "/usr/local/lib/python3.9/dist-packages/bs4/__init__.py:226: UserWarning: You provided Unicode markup but also provided a value for from_encoding. Your from_encoding will be ignored.\n",
            "  warnings.warn(\"You provided Unicode markup but also provided a value for from_encoding. Your from_encoding will be ignored.\")\n"
          ]
        },
        {
          "output_type": "stream",
          "name": "stdout",
          "text": [
            "['RAM Engineer', 'NOT_FOUND', 'Portsmouth, RI 02871', 'Searching for a RAM Engineer.', '$100K — $150K', '/web/20200727211849/https://www.theladders.com/jobs/portsmouth-ri-jobs', 'Posted 5d ago', 'NOT_FOUND']\n",
            "['Data Analyst', '', 'Sun Valley, CA 91352', 'Ensures business systems are efficient and operating in supported environments; proactively reviews the business operations for ongoing process improvements...', '$80K', '/web/20200727211849/https://www.theladders.com/jobs/sun-valley-ca-jobs', 'Posted 5d ago', 'NOT_FOUND']\n",
            "['Senior Software Engineer', 'NOT_FOUND', 'NOT_FOUND', 'Design and build secure, distributed systems that operate globally; responsible for the architecture, design and implementation that will provide availability, integration, and performance guarantees...', 'NOT_FOUND', 'NOT_FOUND', 'Posted Today', 'NOT_FOUND']\n",
            "['IT PV (Pharmacovilance) - Oracle Argus', 'NOT_FOUND', 'NOT_FOUND', 'The PV Expert will be engaged on multiple operational activities, contributing to achieve the objectives of the Service Line. He/She will ensure continuous improvements to the processes, with a focus...', '$110K — $130K + tbd', 'NOT_FOUND', 'Posted Today', 'NOT_FOUND']\n",
            "['Software Product Manager - Decision Support', '', 'South San Francisco, CA 94080 (SAN MATEO County)', 'Generate/maintain high level requirements to the development team; collaborate with the development team to generate (DI) requirements.', 'NOT_FOUND', '/web/20200923165350/https://www.theladders.com/jobs/south-san-francisco-ca-jobs', 'Posted Today', 'NOT_FOUND']\n"
          ]
        },
        {
          "output_type": "stream",
          "name": "stderr",
          "text": [
            "/usr/local/lib/python3.9/dist-packages/bs4/__init__.py:226: UserWarning: You provided Unicode markup but also provided a value for from_encoding. Your from_encoding will be ignored.\n",
            "  warnings.warn(\"You provided Unicode markup but also provided a value for from_encoding. Your from_encoding will be ignored.\")\n",
            "/usr/local/lib/python3.9/dist-packages/bs4/__init__.py:226: UserWarning: You provided Unicode markup but also provided a value for from_encoding. Your from_encoding will be ignored.\n",
            "  warnings.warn(\"You provided Unicode markup but also provided a value for from_encoding. Your from_encoding will be ignored.\")\n",
            "/usr/local/lib/python3.9/dist-packages/bs4/__init__.py:226: UserWarning: You provided Unicode markup but also provided a value for from_encoding. Your from_encoding will be ignored.\n",
            "  warnings.warn(\"You provided Unicode markup but also provided a value for from_encoding. Your from_encoding will be ignored.\")\n"
          ]
        },
        {
          "output_type": "stream",
          "name": "stdout",
          "text": [
            "['Sr. System Engineers / Integrators (Senior-Level)', '', 'Centreville, VA 20120 (FAIRFAX County)', 'Engage with internal and external organizations to develop and execute a time-phased epochs for migrating systems to the operational baseline; generate enterprise test plans, and leads test readiness...', '$170K — $200K', '/web/20200923165350/https://www.theladders.com/jobs/centreville-va-jobs', 'Posted Today', 'NOT_FOUND']\n",
            "['Software Engineer (C++)', 'NOT_FOUND', 'Pittsburgh, PA 15222 (ALLEGHENY County)', 'Effectively interact with fellow engineers and customers to gather inputs for producing appropriate software designs and implementations; review software requirements and deliver design documentation...', 'NOT_FOUND', '/web/20200923165350/https://www.theladders.com/jobs/pittsburgh-pa-jobs', 'Posted Today', 'NOT_FOUND']\n"
          ]
        },
        {
          "output_type": "stream",
          "name": "stderr",
          "text": [
            "/usr/local/lib/python3.9/dist-packages/bs4/__init__.py:226: UserWarning: You provided Unicode markup but also provided a value for from_encoding. Your from_encoding will be ignored.\n",
            "  warnings.warn(\"You provided Unicode markup but also provided a value for from_encoding. Your from_encoding will be ignored.\")\n",
            "/usr/local/lib/python3.9/dist-packages/bs4/__init__.py:226: UserWarning: You provided Unicode markup but also provided a value for from_encoding. Your from_encoding will be ignored.\n",
            "  warnings.warn(\"You provided Unicode markup but also provided a value for from_encoding. Your from_encoding will be ignored.\")\n"
          ]
        },
        {
          "output_type": "stream",
          "name": "stdout",
          "text": [
            "['Senior Software Engineer (C# or Java)', 'NOT_FOUND', 'Pittsburgh, PA 15222 (ALLEGHENY County)', 'Develop a critical part of a new web-based and web services applications in a Scrum Environment; in addition, the candidate will contribute to the design, implementation, and testing of the software...', 'NOT_FOUND', '/web/20200923165350/https://www.theladders.com/jobs/pittsburgh-pa-jobs', 'Posted Today', 'NOT_FOUND']\n",
            "['Intelligence Officer Junior To Senior Level', '', 'Washington, DC 20001 (DISTRICT OF COLUMBIA County)', 'Conduct analysis of all source information to identify viable personal and impersonal targets; understanding of counterespionage and counterintelligence operations...', '$100K — $160K', '/web/20200923165350/https://www.theladders.com/jobs/washington-dc-jobs', 'Posted Yesterday', 'NOT_FOUND']\n"
          ]
        },
        {
          "output_type": "stream",
          "name": "stderr",
          "text": [
            "/usr/local/lib/python3.9/dist-packages/bs4/__init__.py:226: UserWarning: You provided Unicode markup but also provided a value for from_encoding. Your from_encoding will be ignored.\n",
            "  warnings.warn(\"You provided Unicode markup but also provided a value for from_encoding. Your from_encoding will be ignored.\")\n",
            "/usr/local/lib/python3.9/dist-packages/bs4/__init__.py:226: UserWarning: You provided Unicode markup but also provided a value for from_encoding. Your from_encoding will be ignored.\n",
            "  warnings.warn(\"You provided Unicode markup but also provided a value for from_encoding. Your from_encoding will be ignored.\")\n"
          ]
        },
        {
          "output_type": "stream",
          "name": "stdout",
          "text": [
            "['Sr. Frontend Developer', 'NOT_FOUND', 'Gloucester, ON K1B 0A1', 'Help architect and build new React JS web applications deployed on AWS infrastructure, that provide the best possible user experience to our customers...', '$90K — $120K', '/web/20200923165350/https://www.theladders.com/jobs/gloucester-on-jobs', 'Posted Yesterday', 'NOT_FOUND']\n",
            "['Software Developer', 'NOT_FOUND', 'Gloucester, ON K1B 0A1', 'Must have an understanding of multi threading and concurrent programming; experience with multi-processor programming and inter-processor communication...', '$90K — $120K', '/web/20200923165350/https://www.theladders.com/jobs/gloucester-on-jobs', 'Posted Yesterday', 'NOT_FOUND']\n"
          ]
        },
        {
          "output_type": "stream",
          "name": "stderr",
          "text": [
            "/usr/local/lib/python3.9/dist-packages/bs4/__init__.py:226: UserWarning: You provided Unicode markup but also provided a value for from_encoding. Your from_encoding will be ignored.\n",
            "  warnings.warn(\"You provided Unicode markup but also provided a value for from_encoding. Your from_encoding will be ignored.\")\n",
            "/usr/local/lib/python3.9/dist-packages/bs4/__init__.py:226: UserWarning: You provided Unicode markup but also provided a value for from_encoding. Your from_encoding will be ignored.\n",
            "  warnings.warn(\"You provided Unicode markup but also provided a value for from_encoding. Your from_encoding will be ignored.\")\n"
          ]
        },
        {
          "output_type": "stream",
          "name": "stdout",
          "text": [
            "['Site Reliability Engineer', 'NOT_FOUND', 'Gloucester, ON K1B 0A1', 'Must have familiarity with secure coding practices and compliance adherence within a cloud environment including PCI, ISO27001 and SOC2; hands-on infrastructure, systems and application architecture e...', '$70K — $100K', '/web/20200923165350/https://www.theladders.com/jobs/gloucester-on-jobs', 'Posted Yesterday', 'NOT_FOUND']\n",
            "['Product Manager', 'NOT_FOUND', 'NOT_FOUND', 'Lead the definition of business strategy related to current and future features, technologies and platforms; drive the definition, requirements, design, delivery and adoption of our current and new so...', 'NOT_FOUND', 'NOT_FOUND', 'Posted Yesterday', 'NOT_FOUND']\n",
            "['Python Developer', 'NOT_FOUND', 'Mc Lean, VA 22101 (FAIRFAX County)', 'This is a developer role on a team that builds model-oriented web services for machine learning models; this is a hands-on day to day developer role i.e. mostly writing code and development related ac...', '$120K — $150K', '/web/20200923165350/https://www.theladders.com/jobs/mc-lean-va-jobs', 'Posted Yesterday', 'NOT_FOUND']\n"
          ]
        },
        {
          "output_type": "stream",
          "name": "stderr",
          "text": [
            "/usr/local/lib/python3.9/dist-packages/bs4/__init__.py:226: UserWarning: You provided Unicode markup but also provided a value for from_encoding. Your from_encoding will be ignored.\n",
            "  warnings.warn(\"You provided Unicode markup but also provided a value for from_encoding. Your from_encoding will be ignored.\")\n",
            "/usr/local/lib/python3.9/dist-packages/bs4/__init__.py:226: UserWarning: You provided Unicode markup but also provided a value for from_encoding. Your from_encoding will be ignored.\n",
            "  warnings.warn(\"You provided Unicode markup but also provided a value for from_encoding. Your from_encoding will be ignored.\")\n"
          ]
        },
        {
          "output_type": "stream",
          "name": "stdout",
          "text": [
            "['Java / J2EE Developer Specialist', 'NOT_FOUND', 'Mc Lean, VA 22101 (FAIRFAX County)', 'Communicate and work as the point person with senior management in the division for our analytics tools; design and develop new code and review existing code changes to ensure standard technology deve...', '$140K — $170K', '/web/20200923165350/https://www.theladders.com/jobs/mc-lean-va-jobs', 'Posted Yesterday', 'NOT_FOUND']\n",
            "['SAP ABAP Consultant', '', 'NOT_FOUND', \"Must have an experience in ABAP/4 troubleshooting techniques like Debugging, Update Debugging, Performance Tuning; good Knowledge of configuring EDI, ALE and IDOC's Interfaces...\", '$130K — $160K', 'NOT_FOUND', 'Posted Yesterday', 'NOT_FOUND']\n",
            "['Talend AWS Developer', 'NOT_FOUND', 'Reston, VA 20191 (FAIRFAX County)', 'Must have an experience in design and build data integration jobs; experience on AWS services like EMR, RDS, Lambda, S3, SQS, SNS, etc.', '$80K — $100K', '/web/20200923165350/https://www.theladders.com/jobs/reston-va-jobs', 'Posted Yesterday', 'NOT_FOUND']\n",
            "['Senior Kotlin Developer', 'NOT_FOUND', 'NOT_FOUND', 'Must have an experience deploying and maintaining software in a cloud-based infrastructure; packaging and deploying applications using Docker/Kubernetes...', 'NOT_FOUND', 'NOT_FOUND', 'Posted Yesterday', 'NOT_FOUND']\n",
            "['Consulting Director - Banking, Cap Mkts, or Insurance', '', 'NOT_FOUND', 'Manage all operational aspects of select accounts including but not limited to: account strategy, pipeline management, revenue forecasting, WON management/allocations, revenue/cost/GM management and r...', '$180K — $250K + $40 bonus', 'NOT_FOUND', 'Posted 2d ago', 'NOT_FOUND']\n"
          ]
        },
        {
          "output_type": "stream",
          "name": "stderr",
          "text": [
            "/usr/local/lib/python3.9/dist-packages/bs4/__init__.py:226: UserWarning: You provided Unicode markup but also provided a value for from_encoding. Your from_encoding will be ignored.\n",
            "  warnings.warn(\"You provided Unicode markup but also provided a value for from_encoding. Your from_encoding will be ignored.\")\n",
            "/usr/local/lib/python3.9/dist-packages/bs4/__init__.py:226: UserWarning: You provided Unicode markup but also provided a value for from_encoding. Your from_encoding will be ignored.\n",
            "  warnings.warn(\"You provided Unicode markup but also provided a value for from_encoding. Your from_encoding will be ignored.\")\n"
          ]
        },
        {
          "output_type": "stream",
          "name": "stdout",
          "text": [
            "['Angular Developer', 'NOT_FOUND', 'Golden, CO 80401 (JEFFERSON County)', 'Developing simple and understandable user interfaces for an abstract and complex AI engine; implementing thoughtful, well-developed code reflecting the needs of the team, customer, and end-user...', 'NOT_FOUND', '/web/20200923165350/https://www.theladders.com/jobs/golden-co-jobs', 'Posted 2d ago', 'NOT_FOUND']\n",
            "['Cloud Production Engineer', '', 'Denver, CO 80228 (JEFFERSON County)', 'Monitor and deploy systems on AWS to enable a robust and redundant system architecture; design new secure and scalable production systems leveraging cloud services...', 'NOT_FOUND', '/web/20200923165350/https://www.theladders.com/jobs/denver-co-jobs', 'Posted 2d ago', 'NOT_FOUND']\n"
          ]
        },
        {
          "output_type": "stream",
          "name": "stderr",
          "text": [
            "/usr/local/lib/python3.9/dist-packages/bs4/__init__.py:226: UserWarning: You provided Unicode markup but also provided a value for from_encoding. Your from_encoding will be ignored.\n",
            "  warnings.warn(\"You provided Unicode markup but also provided a value for from_encoding. Your from_encoding will be ignored.\")\n",
            "/usr/local/lib/python3.9/dist-packages/bs4/__init__.py:226: UserWarning: You provided Unicode markup but also provided a value for from_encoding. Your from_encoding will be ignored.\n",
            "  warnings.warn(\"You provided Unicode markup but also provided a value for from_encoding. Your from_encoding will be ignored.\")\n"
          ]
        },
        {
          "output_type": "stream",
          "name": "stdout",
          "text": [
            "['Java Developer Lead', '', 'Plano, TX 75023 (COLLIN County)', 'Must have an experience working with product managers and design team is valuable. Its a good opportunity to get exposure to work on a strategic product they are building...', '$80K — $90K', '/web/20200923165350/https://www.theladders.com/jobs/plano-tx-jobs', 'Posted 4d ago', 'NOT_FOUND']\n",
            "['Microsoft Dynamics365 Lead', '', 'Southborough, MA 01772 (WORCESTER County)', 'Configure, install, and maintain LAN and WAN networking equipment; experience with multi-vendor Core Solutions for routing, switching, wireless, and VOIP including implementing best practice security...', '$130K', '/web/20200923165350/https://www.theladders.com/jobs/southborough-ma-jobs', 'Posted 4d ago', 'NOT_FOUND']\n"
          ]
        },
        {
          "output_type": "stream",
          "name": "stderr",
          "text": [
            "/usr/local/lib/python3.9/dist-packages/bs4/__init__.py:226: UserWarning: You provided Unicode markup but also provided a value for from_encoding. Your from_encoding will be ignored.\n",
            "  warnings.warn(\"You provided Unicode markup but also provided a value for from_encoding. Your from_encoding will be ignored.\")\n",
            "/usr/local/lib/python3.9/dist-packages/bs4/__init__.py:226: UserWarning: You provided Unicode markup but also provided a value for from_encoding. Your from_encoding will be ignored.\n",
            "  warnings.warn(\"You provided Unicode markup but also provided a value for from_encoding. Your from_encoding will be ignored.\")\n"
          ]
        },
        {
          "output_type": "stream",
          "name": "stdout",
          "text": [
            "['Information Technology and Security Manager', '', 'Southborough, MA 01772 (WORCESTER County)', 'Configure, install, and maintain LAN and WAN networking equipment. Experience with multi-vendor Core Solutions for routing, switching, wireless, and VOIP including implementing best practice security...', '$160K', '/web/20200923165350/https://www.theladders.com/jobs/southborough-ma-jobs', 'Posted 4d ago', 'NOT_FOUND']\n",
            "['Site Reliability Engineer', 'NOT_FOUND', 'Atlanta, GA 30339 (COBB County)', 'Maintain log shipping best practices, including tagging, tracing, alerting and analysis tools; maintain monitoring and observability of applications and systems...', '$140K — $150K', '/web/20200923165350/https://www.theladders.com/jobs/atlanta-ga-jobs', 'Posted 4d ago', 'NOT_FOUND']\n"
          ]
        },
        {
          "output_type": "stream",
          "name": "stderr",
          "text": [
            "/usr/local/lib/python3.9/dist-packages/bs4/__init__.py:226: UserWarning: You provided Unicode markup but also provided a value for from_encoding. Your from_encoding will be ignored.\n",
            "  warnings.warn(\"You provided Unicode markup but also provided a value for from_encoding. Your from_encoding will be ignored.\")\n",
            "/usr/local/lib/python3.9/dist-packages/bs4/__init__.py:226: UserWarning: You provided Unicode markup but also provided a value for from_encoding. Your from_encoding will be ignored.\n",
            "  warnings.warn(\"You provided Unicode markup but also provided a value for from_encoding. Your from_encoding will be ignored.\")\n"
          ]
        },
        {
          "output_type": "stream",
          "name": "stdout",
          "text": [
            "['Sr. Network Engineer', 'NOT_FOUND', 'Alpharetta, GA 30009 (FULTON County)', 'Ability to convert project requirements into design strategy and lead through the project lifecycle; research and provide networking solutions around projects related to financial transaction processi...', '$130K — $150K', '/web/20200923165350/https://www.theladders.com/jobs/alpharetta-ga-jobs', 'Posted 4d ago', 'NOT_FOUND']\n",
            "['Automation Developer', 'NOT_FOUND', 'Alpharetta, GA 30005 (FULTON County)', 'Review of existing processes via documentation and with D&A team to gain full understanding of as-is requirements; porting of Hadoop Hive code to GCP BigQuery environment; creatively designing and dev...', '$100K — $120K', '/web/20200923165350/https://www.theladders.com/jobs/alpharetta-ga-jobs', 'Posted 4d ago', 'NOT_FOUND']\n",
            "['Software Engineer III', 'NOT_FOUND', 'NOT_FOUND', 'Own long-term impacts of key design decisions and balance technical debt with business needs. ', 'NOT_FOUND', 'NOT_FOUND', 'Posted Yesterday', 'NOT_FOUND']\n",
            "['Software Engineer', '', 'Fort Collins, CO 80525 (LARIMER County)', 'Knowledge of all aspects of the software life cycle from definition, requirements analysis and design to implementation.', '$130K — $140K', '/web/20201011192708/https://www.theladders.com/jobs/fort-collins-co-jobs', 'Posted Yesterday', 'NOT_FOUND']\n"
          ]
        },
        {
          "output_type": "stream",
          "name": "stderr",
          "text": [
            "/usr/local/lib/python3.9/dist-packages/bs4/__init__.py:226: UserWarning: You provided Unicode markup but also provided a value for from_encoding. Your from_encoding will be ignored.\n",
            "  warnings.warn(\"You provided Unicode markup but also provided a value for from_encoding. Your from_encoding will be ignored.\")\n",
            "/usr/local/lib/python3.9/dist-packages/bs4/__init__.py:226: UserWarning: You provided Unicode markup but also provided a value for from_encoding. Your from_encoding will be ignored.\n",
            "  warnings.warn(\"You provided Unicode markup but also provided a value for from_encoding. Your from_encoding will be ignored.\")\n",
            "/usr/local/lib/python3.9/dist-packages/bs4/__init__.py:226: UserWarning: You provided Unicode markup but also provided a value for from_encoding. Your from_encoding will be ignored.\n",
            "  warnings.warn(\"You provided Unicode markup but also provided a value for from_encoding. Your from_encoding will be ignored.\")\n"
          ]
        },
        {
          "output_type": "stream",
          "name": "stdout",
          "text": [
            "['Salesforce Marketing Cloud Developer', '', 'Lakeland, FL 33801 (POLK County)', 'As a Systems Analyst or Senior Systems Analyst where you will be responsible for leading efforts to develop and support Salesforce Marketing Cloud applications...', '$80K — $150K + $10K bonus', '/web/20201011192708/https://www.theladders.com/jobs/lakeland-fl-jobs', 'Posted Yesterday', 'NOT_FOUND']\n",
            "['Office 365 Administrator', 'NOT_FOUND', 'Lafayette, CO 80026 (BOULDER County)', 'Authoring and delivering training to users while continuously looking for process and workflow improvements; executing functional and technical enterprise system design including planning and implemen...', 'NOT_FOUND', '/web/20201011192708/https://www.theladders.com/jobs/lafayette-co-jobs', 'Posted Yesterday', 'NOT_FOUND']\n",
            "['Web Developer', '', 'New Providence, NJ 07974 (UNION County)', 'Transform high-level user and customer requirements for complex system functionality into streamlined, architected graphical user interfaces that are tailored to the specific end user’s operational ne...', 'NOT_FOUND', '/web/20201011192708/https://www.theladders.com/jobs/new-providence-nj-jobs', 'Posted Yesterday', 'NOT_FOUND']\n"
          ]
        },
        {
          "output_type": "stream",
          "name": "stderr",
          "text": [
            "/usr/local/lib/python3.9/dist-packages/bs4/__init__.py:226: UserWarning: You provided Unicode markup but also provided a value for from_encoding. Your from_encoding will be ignored.\n",
            "  warnings.warn(\"You provided Unicode markup but also provided a value for from_encoding. Your from_encoding will be ignored.\")\n",
            "/usr/local/lib/python3.9/dist-packages/bs4/__init__.py:226: UserWarning: You provided Unicode markup but also provided a value for from_encoding. Your from_encoding will be ignored.\n",
            "  warnings.warn(\"You provided Unicode markup but also provided a value for from_encoding. Your from_encoding will be ignored.\")\n",
            "/usr/local/lib/python3.9/dist-packages/bs4/__init__.py:226: UserWarning: You provided Unicode markup but also provided a value for from_encoding. Your from_encoding will be ignored.\n",
            "  warnings.warn(\"You provided Unicode markup but also provided a value for from_encoding. Your from_encoding will be ignored.\")\n"
          ]
        },
        {
          "output_type": "stream",
          "name": "stdout",
          "text": [
            "['Product Manager', '', 'Boston, MA 02113 (SUFFOLK County)', 'Create the path for success of a new line of products that our client company will be building that will be a next generation of an already successful product line; you will work closely with a talent...', '$150K', '/web/20201011192708/https://www.theladders.com/jobs/boston-ma-jobs', 'Posted 2d ago', 'NOT_FOUND']\n",
            "['Conflicts Analyst', '', 'New York, NY 10018 (NEW YORK County)', 'Conduct conflict of interest searches for all offices; check and provide feedback on conflict searches when done by staff other than Record Center; perform extensive research using multiple sources on...', '$90K — $100K', '/web/20201011192708/https://www.theladders.com/jobs/new-york-ny-jobs', 'Posted 2d ago', 'NOT_FOUND']\n",
            "['Lead Data Engineer', '', 'Jacksonville, FL 32224 (DUVAL County)', 'The Team Lead, Data Engineer will lead a small team of data analysts/engineers within the technology team as well as support other data analysts throughout the organization on various data initiatives...', '$90K — $110K + annual bonus opportunity, comprensive benefits package & pto', '/web/20201011192708/https://www.theladders.com/jobs/jacksonville-fl-jobs', 'Posted 2d ago', 'NOT_FOUND']\n"
          ]
        },
        {
          "output_type": "stream",
          "name": "stderr",
          "text": [
            "/usr/local/lib/python3.9/dist-packages/bs4/__init__.py:226: UserWarning: You provided Unicode markup but also provided a value for from_encoding. Your from_encoding will be ignored.\n",
            "  warnings.warn(\"You provided Unicode markup but also provided a value for from_encoding. Your from_encoding will be ignored.\")\n",
            "/usr/local/lib/python3.9/dist-packages/bs4/__init__.py:226: UserWarning: You provided Unicode markup but also provided a value for from_encoding. Your from_encoding will be ignored.\n",
            "  warnings.warn(\"You provided Unicode markup but also provided a value for from_encoding. Your from_encoding will be ignored.\")\n",
            "/usr/local/lib/python3.9/dist-packages/bs4/__init__.py:226: UserWarning: You provided Unicode markup but also provided a value for from_encoding. Your from_encoding will be ignored.\n",
            "  warnings.warn(\"You provided Unicode markup but also provided a value for from_encoding. Your from_encoding will be ignored.\")\n"
          ]
        },
        {
          "output_type": "stream",
          "name": "stdout",
          "text": [
            "['Front End Angular Developer', '', 'Alexandria, VA 22314 (ALEXANDRIA CITY County)', 'Should be a full-stack developer with the emphasis on the AngularJS piece. Unpackage the already existing setup. ', 'NOT_FOUND', '/web/20201011192708/https://www.theladders.com/jobs/alexandria-va-jobs', 'Posted 2d ago', 'NOT_FOUND']\n",
            "['JDE CNC Administrator', 'NOT_FOUND', 'Hollywood, FL 33027 (BROWARD County)', 'Execution of security addition and modification, task view add/changes; supports, operates and maintains computer systems and software applications.', 'NOT_FOUND', '/web/20201011192708/https://www.theladders.com/jobs/hollywood-fl-jobs', 'Posted 2d ago', 'NOT_FOUND']\n",
            "['Senior Functional Analyst - SAP', 'NOT_FOUND', 'Phoenix, AZ 85001 (MARICOPA County)', 'Define business processes, improvements, and business objectives with focus on SAP specific software modules and integration points; map the solution to business requirements according to standards an...', '$130K — $180K + tbd', '/web/20201011192708/https://www.theladders.com/jobs/phoenix-az-jobs', 'Posted 2d ago', 'NOT_FOUND']\n"
          ]
        },
        {
          "output_type": "stream",
          "name": "stderr",
          "text": [
            "/usr/local/lib/python3.9/dist-packages/bs4/__init__.py:226: UserWarning: You provided Unicode markup but also provided a value for from_encoding. Your from_encoding will be ignored.\n",
            "  warnings.warn(\"You provided Unicode markup but also provided a value for from_encoding. Your from_encoding will be ignored.\")\n",
            "/usr/local/lib/python3.9/dist-packages/bs4/__init__.py:226: UserWarning: You provided Unicode markup but also provided a value for from_encoding. Your from_encoding will be ignored.\n",
            "  warnings.warn(\"You provided Unicode markup but also provided a value for from_encoding. Your from_encoding will be ignored.\")\n"
          ]
        },
        {
          "output_type": "stream",
          "name": "stdout",
          "text": [
            "['Senior Software Developer - Java, AWS, Spring Boot', '', 'Austin, TX 78701 (TRAVIS County)', 'Develop Java software applications in an enterprise-grade environment; deliver enhancements and modifications to various in-house applications; stay up to speed on new development tools and technologi...', 'NOT_FOUND', '/web/20201011192708/https://www.theladders.com/jobs/austin-tx-jobs', 'Posted 2d ago', 'NOT_FOUND']\n",
            "['UI Lead ( React.js)', '', 'San Francisco, CA 94102 (SAN FRANCISCO County)', 'Searching for a UI Lead ( React.js).', '$90K — $120K + benefits according company policy', '/web/20201011192708/https://www.theladders.com/jobs/san-francisco-ca-jobs', 'Posted 2d ago', 'NOT_FOUND']\n",
            "['Test Data Manager', '', 'Woodbridge, NJ 07095 (MIDDLESEX County)', 'This role will be a Manager level and will oversee a group of resources (mostly contractors) tasked with creation of test data to support testing in various non-production environments; this role will...', '$40K — $120K', '/web/20201011192708/https://www.theladders.com/jobs/woodbridge-nj-jobs', 'Posted 2d ago', 'NOT_FOUND']\n",
            "['Sr. Product Manager Subscription and Managed Services', '', 'NOT_FOUND', 'Create compelling stories and all data preparation for QBRs and product launch cycles that identify support product trends and opportunities for improvement...', 'NOT_FOUND', 'NOT_FOUND', 'Posted 3d ago', 'NOT_FOUND']\n",
            "['Business Intelligence Analyst', 'NOT_FOUND', 'NOT_FOUND', \"Working together around website goals, what they are trying to achieve, monthly reporting; accessibility page for example what is and isn't working and help put together a presentation for stakeholder...\", '$90K — $130K', 'NOT_FOUND', 'Posted 3d ago', 'NOT_FOUND']\n"
          ]
        },
        {
          "output_type": "stream",
          "name": "stderr",
          "text": [
            "/usr/local/lib/python3.9/dist-packages/bs4/__init__.py:226: UserWarning: You provided Unicode markup but also provided a value for from_encoding. Your from_encoding will be ignored.\n",
            "  warnings.warn(\"You provided Unicode markup but also provided a value for from_encoding. Your from_encoding will be ignored.\")\n",
            "/usr/local/lib/python3.9/dist-packages/bs4/__init__.py:226: UserWarning: You provided Unicode markup but also provided a value for from_encoding. Your from_encoding will be ignored.\n",
            "  warnings.warn(\"You provided Unicode markup but also provided a value for from_encoding. Your from_encoding will be ignored.\")\n",
            "/usr/local/lib/python3.9/dist-packages/bs4/__init__.py:226: UserWarning: You provided Unicode markup but also provided a value for from_encoding. Your from_encoding will be ignored.\n",
            "  warnings.warn(\"You provided Unicode markup but also provided a value for from_encoding. Your from_encoding will be ignored.\")\n"
          ]
        },
        {
          "output_type": "stream",
          "name": "stdout",
          "text": [
            "['BI Financial Analyst', 'NOT_FOUND', 'Bellevue, WA 98005 (KING County)', 'Work with clients (internal or external) to determine business requirements, priorities, define key performance indicators (KPI); build an understanding of the business at a level of detail that enabl...', '$130K — $170K', '/web/20201011192708/https://www.theladders.com/jobs/bellevue-wa-jobs', 'Posted 3d ago', 'NOT_FOUND']\n",
            "['Build Coordination Engineer', 'NOT_FOUND', 'Redmond, WA 98052 (KING County)', 'Work with contributors to compile and merge daily changes into local builds for morning and afternoon playtests; work with Production to help deliver polished builds for milestones...', '$80K — $100K', '/web/20201011192708/https://www.theladders.com/jobs/redmond-wa-jobs', 'Posted 3d ago', 'NOT_FOUND']\n",
            "['Business Intelligence Analyst', 'NOT_FOUND', 'Bellevue, WA 98005 (KING County)', 'They work closely with clients and IT teams to turn data into critical information and knowledge that can be used to make sound business decisions; they provide data that is accurate, congruent and re...', '$120K — $160K', '/web/20201011192708/https://www.theladders.com/jobs/bellevue-wa-jobs', 'Posted 3d ago', 'NOT_FOUND']\n",
            "['BI Support Analyst', 'NOT_FOUND', 'NOT_FOUND', 'Must have an advanced power Bi super user (super crucial requirement); expert at financial modelling and forecasting (finance background a plus, an expert in COGS efficiency)...', '$80K — $130K', 'NOT_FOUND', 'Posted 3d ago', 'NOT_FOUND']\n",
            "['Build Engineer', 'NOT_FOUND', 'NOT_FOUND', 'Creates and maintains fully-automated build systems leveraging industry standard source repository and continuous integration tooling; support building game titles and tools across wide range of deskt...', '$90K — $130K', 'NOT_FOUND', 'Posted 3d ago', 'NOT_FOUND']\n"
          ]
        },
        {
          "output_type": "stream",
          "name": "stderr",
          "text": [
            "/usr/local/lib/python3.9/dist-packages/bs4/__init__.py:226: UserWarning: You provided Unicode markup but also provided a value for from_encoding. Your from_encoding will be ignored.\n",
            "  warnings.warn(\"You provided Unicode markup but also provided a value for from_encoding. Your from_encoding will be ignored.\")\n",
            "/usr/local/lib/python3.9/dist-packages/bs4/__init__.py:226: UserWarning: You provided Unicode markup but also provided a value for from_encoding. Your from_encoding will be ignored.\n",
            "  warnings.warn(\"You provided Unicode markup but also provided a value for from_encoding. Your from_encoding will be ignored.\")\n"
          ]
        },
        {
          "output_type": "stream",
          "name": "stdout",
          "text": [
            "['Business / Systems Analyst', 'NOT_FOUND', 'NOT_FOUND', 'Write Scope scripts to build streams from telemetry events; design efficient data structures and database schemas.', '$90K — $130K', 'NOT_FOUND', 'Posted 3d ago', 'NOT_FOUND']\n",
            "['Operations Consultant / Analyst', 'NOT_FOUND', 'NOT_FOUND', 'Must have a good analytical and problem-solving skills including attention to detail combined with an ability to derive insights from available data (be both broad and deep); demonstrated ability to c...', '$90K — $130K', 'NOT_FOUND', 'Posted 3d ago', 'NOT_FOUND']\n",
            "['Corporate Strategy & Development Consultant', 'NOT_FOUND', 'NOT_FOUND', 'Guide investments in new hardware and services based on assessment of industry structures, customer behaviors and competitive positioning; lead evaluation of key M&A or partnership deals, working clos...', '$90K — $140K', 'NOT_FOUND', 'Posted 3d ago', 'NOT_FOUND']\n",
            "['Data Analyst', 'NOT_FOUND', 'NOT_FOUND', 'Responsible for data de-duplication (matching and merging data), data cleansing (matching, linking, updating records, such as organization records, in batch and real time), hierarchy management (ident...', '$90K — $130K', 'NOT_FOUND', 'Posted 3d ago', 'NOT_FOUND']\n",
            "['GCP - Data Hadoop Developer', 'Confidential Company', 'NOT_FOUND', 'Build and maintain data management workflows; build and maintain Data ingestion pipelines for batch, micro-batch and real time streaming on big query with Google Cloud...', '$90K — $100K *', 'NOT_FOUND', 'Posted Yesterday', 'NOT_FOUND']\n",
            "['ETL Tech Lead', 'PriServe HCM LLC', 'Sunnyvale, CA 94085 (SANTA CLARA County)', 'Experience working and requirement gathering with BI teams for reporting dashboard on any of the tools such as Tableau, Looker, Power BI or Qlik; expertise in using partitioning, transformations, incr...', '$120K — $130K *', '/web/20210926034124/https://www.theladders.com/jobs/sunnyvale-ca-jobs', 'Posted Yesterday', 'NOT_FOUND']\n",
            "['.Net Developer - Digital Modernization', 'Confidential Company', 'Madison, WI 53711 (DANE County)', 'Analyzing, designing, and then developing a wide variety of business focused custom applications; contributing to the Architectural design of systems.', '$80K — $90K *', '/web/20210926034124/https://www.theladders.com/jobs/madison-wi-jobs', 'Posted Yesterday', 'NOT_FOUND']\n"
          ]
        },
        {
          "output_type": "stream",
          "name": "stderr",
          "text": [
            "/usr/local/lib/python3.9/dist-packages/bs4/__init__.py:226: UserWarning: You provided Unicode markup but also provided a value for from_encoding. Your from_encoding will be ignored.\n",
            "  warnings.warn(\"You provided Unicode markup but also provided a value for from_encoding. Your from_encoding will be ignored.\")\n",
            "/usr/local/lib/python3.9/dist-packages/bs4/__init__.py:226: UserWarning: You provided Unicode markup but also provided a value for from_encoding. Your from_encoding will be ignored.\n",
            "  warnings.warn(\"You provided Unicode markup but also provided a value for from_encoding. Your from_encoding will be ignored.\")\n",
            "/usr/local/lib/python3.9/dist-packages/bs4/__init__.py:226: UserWarning: You provided Unicode markup but also provided a value for from_encoding. Your from_encoding will be ignored.\n",
            "  warnings.warn(\"You provided Unicode markup but also provided a value for from_encoding. Your from_encoding will be ignored.\")\n"
          ]
        },
        {
          "output_type": "stream",
          "name": "stdout",
          "text": [
            "['Software Manager / Quality', 'Confidential Company', 'Cambridge, MA 02238 (MIDDLESEX County)', 'Direct and mentor a group of six to twelve individual contributors; ability to read code critically; finding bugs, weak spots and performance bottlenecks...', '$170K *', '/web/20210926034124/https://www.theladders.com/jobs/cambridge-ma-jobs', 'Posted Yesterday', 'NOT_FOUND']\n",
            "['Senior Software Engineer', 'Confidential Company', 'Boston, MA 02114 (SUFFOLK County)', 'Working on a new implementation for a consumer facing feature/integrating with a key partner or technology/or doing a quick vapor test to determine what may be next...', '$150K *', '/web/20210926034124/https://www.theladders.com/jobs/boston-ma-jobs', 'Posted Yesterday', 'NOT_FOUND']\n",
            "['Software Application SME', 'Hire GI', 'NOT_FOUND', 'Supports the NWM Lead Engineer by overseeing the scientific and technical aspects of multiple Numerical Weather Prediction (NWP) projects and completing technical evaluations as needed...', '$150K — $160K *', 'NOT_FOUND', 'Posted Yesterday', 'NOT_FOUND']\n",
            "['Senior Software Engineer / Technical Architect', 'Confidential Company', 'New York, NY 10005 (NEW YORK County)', 'The ‘Developer’ aspect of the role will cover roughly 70% of a typical work cycle with variability by project which may drop hands-on code to the 40%-50% point however that would not be the norm...', '$200K — $225K *', '/web/20210926034124/https://www.theladders.com/jobs/new-york-ny-jobs', 'Posted Yesterday', 'NOT_FOUND']\n"
          ]
        },
        {
          "output_type": "stream",
          "name": "stderr",
          "text": [
            "/usr/local/lib/python3.9/dist-packages/bs4/__init__.py:226: UserWarning: You provided Unicode markup but also provided a value for from_encoding. Your from_encoding will be ignored.\n",
            "  warnings.warn(\"You provided Unicode markup but also provided a value for from_encoding. Your from_encoding will be ignored.\")\n",
            "/usr/local/lib/python3.9/dist-packages/bs4/__init__.py:226: UserWarning: You provided Unicode markup but also provided a value for from_encoding. Your from_encoding will be ignored.\n",
            "  warnings.warn(\"You provided Unicode markup but also provided a value for from_encoding. Your from_encoding will be ignored.\")\n",
            "/usr/local/lib/python3.9/dist-packages/bs4/__init__.py:226: UserWarning: You provided Unicode markup but also provided a value for from_encoding. Your from_encoding will be ignored.\n",
            "  warnings.warn(\"You provided Unicode markup but also provided a value for from_encoding. Your from_encoding will be ignored.\")\n"
          ]
        },
        {
          "output_type": "stream",
          "name": "stdout",
          "text": [
            "['NetBackup Lead Consultant', 'Confidential Company', 'NOT_FOUND', 'The EHS Manager will lead a team of 5 managers in planning, implementing, and coordinating environmental, health, and safety program to reduce or eliminate occupational injuries, illnesses, deaths, an...', 'NOT_FOUND', 'NOT_FOUND', 'Posted Yesterday', 'NOT_FOUND']\n",
            "['Network Design Engineer', 'Lacre Staffing', 'Hanover, MD 21076 (ANNE ARUNDEL County)', 'Deliver specific, detailed information for hardware and software selection, implementation techniques, and tools for the most efficient solution to meet business needs, including present and future ca...', '$90K — $140K *', '/web/20210926034124/https://www.theladders.com/jobs/hanover-md-jobs', 'Posted Yesterday', 'NOT_FOUND']\n",
            "['Application Developer', 'Lacre Staffing', 'Hanover, MD 21076 (ANNE ARUNDEL County)', 'Applies principles and techniques of computer science, engineering, and mathematical analysis to the development of complex solutions; participates as a Subject Matter Expert in internal review of sof...', '$80K — $120K *', '/web/20210926034124/https://www.theladders.com/jobs/hanover-md-jobs', 'Posted Yesterday', 'NOT_FOUND']\n"
          ]
        },
        {
          "output_type": "stream",
          "name": "stderr",
          "text": [
            "/usr/local/lib/python3.9/dist-packages/bs4/__init__.py:226: UserWarning: You provided Unicode markup but also provided a value for from_encoding. Your from_encoding will be ignored.\n",
            "  warnings.warn(\"You provided Unicode markup but also provided a value for from_encoding. Your from_encoding will be ignored.\")\n",
            "/usr/local/lib/python3.9/dist-packages/bs4/__init__.py:226: UserWarning: You provided Unicode markup but also provided a value for from_encoding. Your from_encoding will be ignored.\n",
            "  warnings.warn(\"You provided Unicode markup but also provided a value for from_encoding. Your from_encoding will be ignored.\")\n",
            "/usr/local/lib/python3.9/dist-packages/bs4/__init__.py:226: UserWarning: You provided Unicode markup but also provided a value for from_encoding. Your from_encoding will be ignored.\n",
            "  warnings.warn(\"You provided Unicode markup but also provided a value for from_encoding. Your from_encoding will be ignored.\")\n"
          ]
        },
        {
          "output_type": "stream",
          "name": "stdout",
          "text": [
            "['Audio-Visual / Video Conferencing Systems Engineer', 'NOT_FOUND', 'Richardson, TX 75082 (DALLAS County)', 'Lead AV project installation by working closely with end users, project managers and vendors to obtain scope of project, budgetary estimates, quotes, design and integration services...', 'NOT_FOUND', '/web/20210926034124/https://www.theladders.com/jobs/richardson-tx-jobs', 'Posted 2d ago', 'NOT_FOUND']\n",
            "['Transaction Management Coordinator', 'NOT_FOUND', 'Seattle, WA 98134 (KING County)', 'Provides oversight of project file (hard copy and database) maintenance to ensure all required documentation is included in the file or database; prepares, assembles, coordinates, and completes closin...', 'NOT_FOUND', '/web/20210926034124/https://www.theladders.com/jobs/seattle-wa-jobs', 'Posted 2d ago', 'NOT_FOUND']\n",
            "['SAP BRIM', 'Confidential Company', 'NOT_FOUND', 'The candidate should have worked in at least 3 engagements where SAP BRIM solution has been implemented', '$140K — $170K *', 'NOT_FOUND', 'Posted 2d ago', 'NOT_FOUND']\n",
            "['SAP Human Capital Management Team Lead', 'NOT_FOUND', 'Burnaby, BC V5H 4M2', 'Working within the IT ERP Team, responsible for the solution lifecycle for HCM (Human Capital Management) Solutions from Solutioning to managing operations; reporting into the IT Operations Manager fo...', 'NOT_FOUND', '/web/20210926034124/https://www.theladders.com/jobs/burnaby-bc-jobs', 'Posted 2d ago', 'NOT_FOUND']\n"
          ]
        },
        {
          "output_type": "stream",
          "name": "stderr",
          "text": [
            "/usr/local/lib/python3.9/dist-packages/bs4/__init__.py:226: UserWarning: You provided Unicode markup but also provided a value for from_encoding. Your from_encoding will be ignored.\n",
            "  warnings.warn(\"You provided Unicode markup but also provided a value for from_encoding. Your from_encoding will be ignored.\")\n",
            "/usr/local/lib/python3.9/dist-packages/bs4/__init__.py:226: UserWarning: You provided Unicode markup but also provided a value for from_encoding. Your from_encoding will be ignored.\n",
            "  warnings.warn(\"You provided Unicode markup but also provided a value for from_encoding. Your from_encoding will be ignored.\")\n",
            "/usr/local/lib/python3.9/dist-packages/bs4/__init__.py:226: UserWarning: You provided Unicode markup but also provided a value for from_encoding. Your from_encoding will be ignored.\n",
            "  warnings.warn(\"You provided Unicode markup but also provided a value for from_encoding. Your from_encoding will be ignored.\")\n"
          ]
        },
        {
          "output_type": "stream",
          "name": "stdout",
          "text": [
            "['Senior System Engineer - TS / SCI', 'Lacre Staffing', 'Hanover, MD 21076 (ANNE ARUNDEL County)', 'As the Deputy Member of our technical staff, you’ll apply advanced principles of engineering and management to solve complex problems in the development of technology...', '$90K — $200K *', '/web/20210926034124/https://www.theladders.com/jobs/hanover-md-jobs', 'Posted 2d ago', 'NOT_FOUND']\n",
            "['Sr. Database Developer', 'Major Investment Firm', 'New York, NY 10017 (NEW YORK County)', 'The Senior Database Developer is responsible for all phases of software development for Applications from analysis and design through coding, testing, documentation and implementation to production; t...', '$170K — $180K *', '/web/20210926034124/https://www.theladders.com/jobs/new-york-ny-jobs', 'Posted 2d ago', 'NOT_FOUND']\n",
            "['Senior CNO Test Engineer - TS / SCI', 'Lacre Staffing', 'Hanover, MD 21076 (ANNE ARUNDEL County)', 'Must have an experience working within teams of engineers as both a lead and a contributor; experience with continuous integration tools (i.e. Jenkins, QuickBuild, etc.)...', '$80K — $190K *', '/web/20210926034124/https://www.theladders.com/jobs/hanover-md-jobs', 'Posted 2d ago', 'NOT_FOUND']\n"
          ]
        },
        {
          "output_type": "stream",
          "name": "stderr",
          "text": [
            "/usr/local/lib/python3.9/dist-packages/bs4/__init__.py:226: UserWarning: You provided Unicode markup but also provided a value for from_encoding. Your from_encoding will be ignored.\n",
            "  warnings.warn(\"You provided Unicode markup but also provided a value for from_encoding. Your from_encoding will be ignored.\")\n",
            "/usr/local/lib/python3.9/dist-packages/bs4/__init__.py:226: UserWarning: You provided Unicode markup but also provided a value for from_encoding. Your from_encoding will be ignored.\n",
            "  warnings.warn(\"You provided Unicode markup but also provided a value for from_encoding. Your from_encoding will be ignored.\")\n",
            "/usr/local/lib/python3.9/dist-packages/bs4/__init__.py:226: UserWarning: You provided Unicode markup but also provided a value for from_encoding. Your from_encoding will be ignored.\n",
            "  warnings.warn(\"You provided Unicode markup but also provided a value for from_encoding. Your from_encoding will be ignored.\")\n"
          ]
        },
        {
          "output_type": "stream",
          "name": "stdout",
          "text": [
            "['Junior Java Developer - TS / SCI', 'Lacre Staffing', 'Hanover, MD 21076 (ANNE ARUNDEL County)', 'Working successfully within a team, the Software Engineer will assist project leaders in the research, design, development and testing of software and tools, to include development of new work product...', '$80K — $120K *', '/web/20210926034124/https://www.theladders.com/jobs/hanover-md-jobs', 'Posted 2d ago', 'NOT_FOUND']\n",
            "['Analog Design Engineer', 'Careertransllc.com', 'Austin, TX 78728 (TRAVIS County)', 'Develop, test, and troubleshoot analog assemblies; if you offer the following experience, please apply to learn more; manage schematic capture and PCB layout efforts; provide engineering assistance to...', '$120K — $130K *', '/web/20210926034124/https://www.theladders.com/jobs/austin-tx-jobs', 'Posted 2d ago', 'NOT_FOUND']\n",
            "['Senior Remote Support Engineer', 'NOT_FOUND', 'NOT_FOUND', 'The preferred individual will have a strong networking background and experience working in, and troubleshooting large enterprise networks, architectures, and protocols including LACP and BGP...', '$90K — $110K *', 'NOT_FOUND', 'Posted 2d ago', 'NOT_FOUND']\n",
            "['Sr. Frontend Developer', 'Confidential Company', 'New York, NY 10001 (NEW YORK County)', 'Be responsible for designing and developing features for the company website, contributing to product design meetings, and managing other engineers as the team grows...', '$130K — $150K *', '/web/20210926034124/https://www.theladders.com/jobs/new-york-ny-jobs', 'Posted 2d ago', 'NOT_FOUND']\n",
            "['Azure Architect', 'NOT_FOUND', 'NOT_FOUND', 'Must have a working experience in Azure IaaS/Paas storage, network and database; hands on experience in deploying/support Kubernetes (on any public cloud or on-prem) for a large scale enterprise...', '$160K — $170K *', 'NOT_FOUND', 'Posted 2d ago', 'NOT_FOUND']\n"
          ]
        },
        {
          "output_type": "stream",
          "name": "stderr",
          "text": [
            "/usr/local/lib/python3.9/dist-packages/bs4/__init__.py:226: UserWarning: You provided Unicode markup but also provided a value for from_encoding. Your from_encoding will be ignored.\n",
            "  warnings.warn(\"You provided Unicode markup but also provided a value for from_encoding. Your from_encoding will be ignored.\")\n",
            "/usr/local/lib/python3.9/dist-packages/bs4/__init__.py:226: UserWarning: You provided Unicode markup but also provided a value for from_encoding. Your from_encoding will be ignored.\n",
            "  warnings.warn(\"You provided Unicode markup but also provided a value for from_encoding. Your from_encoding will be ignored.\")\n",
            "/usr/local/lib/python3.9/dist-packages/bs4/__init__.py:226: UserWarning: You provided Unicode markup but also provided a value for from_encoding. Your from_encoding will be ignored.\n",
            "  warnings.warn(\"You provided Unicode markup but also provided a value for from_encoding. Your from_encoding will be ignored.\")\n"
          ]
        },
        {
          "output_type": "stream",
          "name": "stdout",
          "text": [
            "['Audio Engineer', 'NOT_FOUND', 'Bellevue, WA 98005 (KING County)', 'Track, edit, and mix our audio programs, including our daily podcast, audio meditations, and sound library; complete quality control through audio programs and review submitted assets for technical an...', '$170K — $190K *', '/web/20210926034124/https://www.theladders.com/jobs/bellevue-wa-jobs', 'Posted 2d ago', 'NOT_FOUND']\n",
            "['Digital Solutions Technical Architect & Team / Delivery Lead', 'AAJ Technologies d/b/a OZ', 'Fort Lauderdale, FL 33309 (BROWARD County)', 'As a Technical Architect and Delivery Lead, you will interact with your client to define future states while continuing to support current technologies and architectures; day-to-day client interaction...', 'NOT_FOUND', '/web/20210926034124/https://www.theladders.com/jobs/fort-lauderdale-fl-jobs', 'Posted 2d ago', 'NOT_FOUND']\n",
            "['Integration Developer', 'AAJ Technologies d/b/a OZ', 'Fort Lauderdale, FL 33309 (BROWARD County)', 'As an Integration Developer, you will play a key role in building and maintaining software integrations across various platforms for our clients; you will identify, plan, and execute integration strat...', 'NOT_FOUND', '/web/20210926034124/https://www.theladders.com/jobs/fort-lauderdale-fl-jobs', 'Posted 2d ago', 'NOT_FOUND']\n"
          ]
        },
        {
          "output_type": "stream",
          "name": "stderr",
          "text": [
            "/usr/local/lib/python3.9/dist-packages/bs4/__init__.py:226: UserWarning: You provided Unicode markup but also provided a value for from_encoding. Your from_encoding will be ignored.\n",
            "  warnings.warn(\"You provided Unicode markup but also provided a value for from_encoding. Your from_encoding will be ignored.\")\n"
          ]
        }
      ],
      "source": [
        "# filter by role extract all the jobs from the archive links directly\n",
        "link = f'www.theladders.com/jobs/technology-jobs?s'\n",
        "archive_url_list = get_archive_link(link)\n",
        "loaded_url=[]\n",
        "for url in archive_url_list:\n",
        "  for i in range(10): #retry 3 times if connection error\n",
        "    while True:\n",
        "      try:\n",
        "        pg = rq.get(url).text\n",
        "        sleep(3)\n",
        "        #ensuring 5 seconds sleep after every grab\n",
        "      except ConnectionError:\n",
        "        sleep(3)\n",
        "        continue\n",
        "      break\n",
        "  \n",
        "  soup = bs(pg,'html.parser')\n",
        "  divs = soup.find_all(name=\"div\", attrs={\"class\":\"job-card-container\"})\n",
        "  \n",
        "  cnt = 0\n",
        "  for div in divs:\n",
        "    #print(div)\n",
        "    #specifying row num for index of job posting in dataframe\n",
        "    num = (len(df) + 1) \n",
        "    cnt = cnt + 1\n",
        "  \n",
        "  #job data after parsing\n",
        "    job_post = [] \n",
        "    \n",
        "    \n",
        "  #grabbing job title\n",
        "    job_post.append(extract_job_title(div))\n",
        "\n",
        "  #grabbing company\n",
        "    job_post.append(extract_company(div))\n",
        "\n",
        "\n",
        "  #grabbing location name\n",
        "    job_post.append(extract_location(div))\n",
        "\n",
        "    #grabbing summary\n",
        "    job_post.append(extract_summary(div))\n",
        "  \n",
        "    #grabbing salary\n",
        "    job_post.append(extract_salary(div))\n",
        "\n",
        "    #grabbing link\n",
        "    link = extract_link(div)  \n",
        "    job_post.append(link)\n",
        "\n",
        "    #grabbing date\n",
        "    job_post.append(extract_date(div))\n",
        "\n",
        "    #grabbing full_text\n",
        "    job_post.append(extract_fulltext(link))\n",
        "  \n",
        "    #appending list of job post info to dataframe at index num\n",
        "    print(job_post)\n",
        "    df.loc[num] = job_post\n",
        "    loaded_url.append(url)\n",
        "\n",
        "df.to_csv('job_data_ladder.csv', index=False)"
      ]
    },
    {
      "cell_type": "code",
      "execution_count": null,
      "metadata": {
        "id": "3hUYzkie7fq-",
        "colab": {
          "base_uri": "https://localhost:8080/",
          "height": 798
        },
        "outputId": "fb46a613-8743-4086-f51d-49c8362ca0a2"
      },
      "outputs": [
        {
          "output_type": "execute_result",
          "data": {
            "text/plain": [
              "                                             job_title  \\\n",
              "1            Architect of Data Center and Hybrid Cloud   \n",
              "2                     SQL DBA (Database Administrator)   \n",
              "3                                   Software Developer   \n",
              "4             Senior Android Developer - Relo Provided   \n",
              "5          Software Product Manager - Decision Support   \n",
              "..                                                 ...   \n",
              "96                              Sr. Frontend Developer   \n",
              "97                                     Azure Architect   \n",
              "98                                      Audio Engineer   \n",
              "99   Digital Solutions Technical Architect & Team /...   \n",
              "100                              Integration Developer   \n",
              "\n",
              "                  company_name                                    location  \\\n",
              "1                    NOT_FOUND                           Spokane, WA 99201   \n",
              "2                                                       New York, NY 10023   \n",
              "3                    NOT_FOUND                           Detroit, MI 48202   \n",
              "4                    NOT_FOUND                         Charlotte, NC 28202   \n",
              "5                                            South San Francisco, CA 94080   \n",
              "..                         ...                                         ...   \n",
              "96        Confidential Company        New York, NY 10001 (NEW YORK County)   \n",
              "97                   NOT_FOUND                                   NOT_FOUND   \n",
              "98                   NOT_FOUND            Bellevue, WA 98005 (KING County)   \n",
              "99   AAJ Technologies d/b/a OZ  Fort Lauderdale, FL 33309 (BROWARD County)   \n",
              "100  AAJ Technologies d/b/a OZ  Fort Lauderdale, FL 33309 (BROWARD County)   \n",
              "\n",
              "                                               summary           salary  \\\n",
              "1    The Architect of Data Center and Hybrid Cloud ...        NOT_FOUND   \n",
              "2    Configure and install SQL databases and associ...    $110K — $140K   \n",
              "3    This role will be responsible for the oversigh...        NOT_FOUND   \n",
              "4    As an Android Software Development Engineer in...        NOT_FOUND   \n",
              "5    Generate/maintain high level requirements to t...        NOT_FOUND   \n",
              "..                                                 ...              ...   \n",
              "96   Be responsible for designing and developing fe...  $130K — $150K *   \n",
              "97   Must have a working experience in Azure IaaS/P...  $160K — $170K *   \n",
              "98   Track, edit, and mix our audio programs, inclu...  $170K — $190K *   \n",
              "99   As a Technical Architect and Delivery Lead, yo...        NOT_FOUND   \n",
              "100  As an Integration Developer, you will play a k...        NOT_FOUND   \n",
              "\n",
              "                                                  link           date  \\\n",
              "1    /web/20200727211849/https://www.theladders.com...   Posted Today   \n",
              "2    /web/20200727211849/https://www.theladders.com...   Posted Today   \n",
              "3    /web/20200727211849/https://www.theladders.com...   Posted Today   \n",
              "4    /web/20200727211849/https://www.theladders.com...   Posted Today   \n",
              "5    /web/20200727211849/https://www.theladders.com...   Posted Today   \n",
              "..                                                 ...            ...   \n",
              "96   /web/20210926034124/https://www.theladders.com...  Posted 2d ago   \n",
              "97                                           NOT_FOUND  Posted 2d ago   \n",
              "98   /web/20210926034124/https://www.theladders.com...  Posted 2d ago   \n",
              "99   /web/20210926034124/https://www.theladders.com...  Posted 2d ago   \n",
              "100  /web/20210926034124/https://www.theladders.com...  Posted 2d ago   \n",
              "\n",
              "     full_text  \n",
              "1    NOT_FOUND  \n",
              "2    NOT_FOUND  \n",
              "3    NOT_FOUND  \n",
              "4    NOT_FOUND  \n",
              "5    NOT_FOUND  \n",
              "..         ...  \n",
              "96   NOT_FOUND  \n",
              "97   NOT_FOUND  \n",
              "98   NOT_FOUND  \n",
              "99   NOT_FOUND  \n",
              "100  NOT_FOUND  \n",
              "\n",
              "[100 rows x 8 columns]"
            ],
            "text/html": [
              "\n",
              "  <div id=\"df-a0cc0342-3ebf-4282-9c06-e698f7184bfb\">\n",
              "    <div class=\"colab-df-container\">\n",
              "      <div>\n",
              "<style scoped>\n",
              "    .dataframe tbody tr th:only-of-type {\n",
              "        vertical-align: middle;\n",
              "    }\n",
              "\n",
              "    .dataframe tbody tr th {\n",
              "        vertical-align: top;\n",
              "    }\n",
              "\n",
              "    .dataframe thead th {\n",
              "        text-align: right;\n",
              "    }\n",
              "</style>\n",
              "<table border=\"1\" class=\"dataframe\">\n",
              "  <thead>\n",
              "    <tr style=\"text-align: right;\">\n",
              "      <th></th>\n",
              "      <th>job_title</th>\n",
              "      <th>company_name</th>\n",
              "      <th>location</th>\n",
              "      <th>summary</th>\n",
              "      <th>salary</th>\n",
              "      <th>link</th>\n",
              "      <th>date</th>\n",
              "      <th>full_text</th>\n",
              "    </tr>\n",
              "  </thead>\n",
              "  <tbody>\n",
              "    <tr>\n",
              "      <th>1</th>\n",
              "      <td>Architect of Data Center and Hybrid Cloud</td>\n",
              "      <td>NOT_FOUND</td>\n",
              "      <td>Spokane, WA 99201</td>\n",
              "      <td>The Architect of Data Center and Hybrid Cloud ...</td>\n",
              "      <td>NOT_FOUND</td>\n",
              "      <td>/web/20200727211849/https://www.theladders.com...</td>\n",
              "      <td>Posted Today</td>\n",
              "      <td>NOT_FOUND</td>\n",
              "    </tr>\n",
              "    <tr>\n",
              "      <th>2</th>\n",
              "      <td>SQL DBA (Database Administrator)</td>\n",
              "      <td></td>\n",
              "      <td>New York, NY 10023</td>\n",
              "      <td>Configure and install SQL databases and associ...</td>\n",
              "      <td>$110K — $140K</td>\n",
              "      <td>/web/20200727211849/https://www.theladders.com...</td>\n",
              "      <td>Posted Today</td>\n",
              "      <td>NOT_FOUND</td>\n",
              "    </tr>\n",
              "    <tr>\n",
              "      <th>3</th>\n",
              "      <td>Software Developer</td>\n",
              "      <td>NOT_FOUND</td>\n",
              "      <td>Detroit, MI 48202</td>\n",
              "      <td>This role will be responsible for the oversigh...</td>\n",
              "      <td>NOT_FOUND</td>\n",
              "      <td>/web/20200727211849/https://www.theladders.com...</td>\n",
              "      <td>Posted Today</td>\n",
              "      <td>NOT_FOUND</td>\n",
              "    </tr>\n",
              "    <tr>\n",
              "      <th>4</th>\n",
              "      <td>Senior Android Developer - Relo Provided</td>\n",
              "      <td>NOT_FOUND</td>\n",
              "      <td>Charlotte, NC 28202</td>\n",
              "      <td>As an Android Software Development Engineer in...</td>\n",
              "      <td>NOT_FOUND</td>\n",
              "      <td>/web/20200727211849/https://www.theladders.com...</td>\n",
              "      <td>Posted Today</td>\n",
              "      <td>NOT_FOUND</td>\n",
              "    </tr>\n",
              "    <tr>\n",
              "      <th>5</th>\n",
              "      <td>Software Product Manager - Decision Support</td>\n",
              "      <td></td>\n",
              "      <td>South San Francisco, CA 94080</td>\n",
              "      <td>Generate/maintain high level requirements to t...</td>\n",
              "      <td>NOT_FOUND</td>\n",
              "      <td>/web/20200727211849/https://www.theladders.com...</td>\n",
              "      <td>Posted Today</td>\n",
              "      <td>NOT_FOUND</td>\n",
              "    </tr>\n",
              "    <tr>\n",
              "      <th>...</th>\n",
              "      <td>...</td>\n",
              "      <td>...</td>\n",
              "      <td>...</td>\n",
              "      <td>...</td>\n",
              "      <td>...</td>\n",
              "      <td>...</td>\n",
              "      <td>...</td>\n",
              "      <td>...</td>\n",
              "    </tr>\n",
              "    <tr>\n",
              "      <th>96</th>\n",
              "      <td>Sr. Frontend Developer</td>\n",
              "      <td>Confidential Company</td>\n",
              "      <td>New York, NY 10001 (NEW YORK County)</td>\n",
              "      <td>Be responsible for designing and developing fe...</td>\n",
              "      <td>$130K — $150K *</td>\n",
              "      <td>/web/20210926034124/https://www.theladders.com...</td>\n",
              "      <td>Posted 2d ago</td>\n",
              "      <td>NOT_FOUND</td>\n",
              "    </tr>\n",
              "    <tr>\n",
              "      <th>97</th>\n",
              "      <td>Azure Architect</td>\n",
              "      <td>NOT_FOUND</td>\n",
              "      <td>NOT_FOUND</td>\n",
              "      <td>Must have a working experience in Azure IaaS/P...</td>\n",
              "      <td>$160K — $170K *</td>\n",
              "      <td>NOT_FOUND</td>\n",
              "      <td>Posted 2d ago</td>\n",
              "      <td>NOT_FOUND</td>\n",
              "    </tr>\n",
              "    <tr>\n",
              "      <th>98</th>\n",
              "      <td>Audio Engineer</td>\n",
              "      <td>NOT_FOUND</td>\n",
              "      <td>Bellevue, WA 98005 (KING County)</td>\n",
              "      <td>Track, edit, and mix our audio programs, inclu...</td>\n",
              "      <td>$170K — $190K *</td>\n",
              "      <td>/web/20210926034124/https://www.theladders.com...</td>\n",
              "      <td>Posted 2d ago</td>\n",
              "      <td>NOT_FOUND</td>\n",
              "    </tr>\n",
              "    <tr>\n",
              "      <th>99</th>\n",
              "      <td>Digital Solutions Technical Architect &amp; Team /...</td>\n",
              "      <td>AAJ Technologies d/b/a OZ</td>\n",
              "      <td>Fort Lauderdale, FL 33309 (BROWARD County)</td>\n",
              "      <td>As a Technical Architect and Delivery Lead, yo...</td>\n",
              "      <td>NOT_FOUND</td>\n",
              "      <td>/web/20210926034124/https://www.theladders.com...</td>\n",
              "      <td>Posted 2d ago</td>\n",
              "      <td>NOT_FOUND</td>\n",
              "    </tr>\n",
              "    <tr>\n",
              "      <th>100</th>\n",
              "      <td>Integration Developer</td>\n",
              "      <td>AAJ Technologies d/b/a OZ</td>\n",
              "      <td>Fort Lauderdale, FL 33309 (BROWARD County)</td>\n",
              "      <td>As an Integration Developer, you will play a k...</td>\n",
              "      <td>NOT_FOUND</td>\n",
              "      <td>/web/20210926034124/https://www.theladders.com...</td>\n",
              "      <td>Posted 2d ago</td>\n",
              "      <td>NOT_FOUND</td>\n",
              "    </tr>\n",
              "  </tbody>\n",
              "</table>\n",
              "<p>100 rows × 8 columns</p>\n",
              "</div>\n",
              "      <button class=\"colab-df-convert\" onclick=\"convertToInteractive('df-a0cc0342-3ebf-4282-9c06-e698f7184bfb')\"\n",
              "              title=\"Convert this dataframe to an interactive table.\"\n",
              "              style=\"display:none;\">\n",
              "        \n",
              "  <svg xmlns=\"http://www.w3.org/2000/svg\" height=\"24px\"viewBox=\"0 0 24 24\"\n",
              "       width=\"24px\">\n",
              "    <path d=\"M0 0h24v24H0V0z\" fill=\"none\"/>\n",
              "    <path d=\"M18.56 5.44l.94 2.06.94-2.06 2.06-.94-2.06-.94-.94-2.06-.94 2.06-2.06.94zm-11 1L8.5 8.5l.94-2.06 2.06-.94-2.06-.94L8.5 2.5l-.94 2.06-2.06.94zm10 10l.94 2.06.94-2.06 2.06-.94-2.06-.94-.94-2.06-.94 2.06-2.06.94z\"/><path d=\"M17.41 7.96l-1.37-1.37c-.4-.4-.92-.59-1.43-.59-.52 0-1.04.2-1.43.59L10.3 9.45l-7.72 7.72c-.78.78-.78 2.05 0 2.83L4 21.41c.39.39.9.59 1.41.59.51 0 1.02-.2 1.41-.59l7.78-7.78 2.81-2.81c.8-.78.8-2.07 0-2.86zM5.41 20L4 18.59l7.72-7.72 1.47 1.35L5.41 20z\"/>\n",
              "  </svg>\n",
              "      </button>\n",
              "      \n",
              "  <style>\n",
              "    .colab-df-container {\n",
              "      display:flex;\n",
              "      flex-wrap:wrap;\n",
              "      gap: 12px;\n",
              "    }\n",
              "\n",
              "    .colab-df-convert {\n",
              "      background-color: #E8F0FE;\n",
              "      border: none;\n",
              "      border-radius: 50%;\n",
              "      cursor: pointer;\n",
              "      display: none;\n",
              "      fill: #1967D2;\n",
              "      height: 32px;\n",
              "      padding: 0 0 0 0;\n",
              "      width: 32px;\n",
              "    }\n",
              "\n",
              "    .colab-df-convert:hover {\n",
              "      background-color: #E2EBFA;\n",
              "      box-shadow: 0px 1px 2px rgba(60, 64, 67, 0.3), 0px 1px 3px 1px rgba(60, 64, 67, 0.15);\n",
              "      fill: #174EA6;\n",
              "    }\n",
              "\n",
              "    [theme=dark] .colab-df-convert {\n",
              "      background-color: #3B4455;\n",
              "      fill: #D2E3FC;\n",
              "    }\n",
              "\n",
              "    [theme=dark] .colab-df-convert:hover {\n",
              "      background-color: #434B5C;\n",
              "      box-shadow: 0px 1px 3px 1px rgba(0, 0, 0, 0.15);\n",
              "      filter: drop-shadow(0px 1px 2px rgba(0, 0, 0, 0.3));\n",
              "      fill: #FFFFFF;\n",
              "    }\n",
              "  </style>\n",
              "\n",
              "      <script>\n",
              "        const buttonEl =\n",
              "          document.querySelector('#df-a0cc0342-3ebf-4282-9c06-e698f7184bfb button.colab-df-convert');\n",
              "        buttonEl.style.display =\n",
              "          google.colab.kernel.accessAllowed ? 'block' : 'none';\n",
              "\n",
              "        async function convertToInteractive(key) {\n",
              "          const element = document.querySelector('#df-a0cc0342-3ebf-4282-9c06-e698f7184bfb');\n",
              "          const dataTable =\n",
              "            await google.colab.kernel.invokeFunction('convertToInteractive',\n",
              "                                                     [key], {});\n",
              "          if (!dataTable) return;\n",
              "\n",
              "          const docLinkHtml = 'Like what you see? Visit the ' +\n",
              "            '<a target=\"_blank\" href=https://colab.research.google.com/notebooks/data_table.ipynb>data table notebook</a>'\n",
              "            + ' to learn more about interactive tables.';\n",
              "          element.innerHTML = '';\n",
              "          dataTable['output_type'] = 'display_data';\n",
              "          await google.colab.output.renderOutput(dataTable, element);\n",
              "          const docLink = document.createElement('div');\n",
              "          docLink.innerHTML = docLinkHtml;\n",
              "          element.appendChild(docLink);\n",
              "        }\n",
              "      </script>\n",
              "    </div>\n",
              "  </div>\n",
              "  "
            ]
          },
          "metadata": {},
          "execution_count": 11
        }
      ],
      "source": [
        "df"
      ]
    },
    {
      "cell_type": "code",
      "source": [
        "df.duplicated().sum()"
      ],
      "metadata": {
        "id": "4QHDdzwAeqiu",
        "outputId": "07abfa99-5130-4cc8-d5f3-453bd40362cd",
        "colab": {
          "base_uri": "https://localhost:8080/"
        }
      },
      "execution_count": null,
      "outputs": [
        {
          "output_type": "execute_result",
          "data": {
            "text/plain": [
              "3"
            ]
          },
          "metadata": {},
          "execution_count": 12
        }
      ]
    }
  ],
  "metadata": {
    "colab": {
      "provenance": []
    },
    "kernelspec": {
      "display_name": "Python 3",
      "name": "python3"
    },
    "language_info": {
      "name": "python"
    }
  },
  "nbformat": 4,
  "nbformat_minor": 0
}